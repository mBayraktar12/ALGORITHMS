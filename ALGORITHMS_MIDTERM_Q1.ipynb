{
  "nbformat": 4,
  "nbformat_minor": 0,
  "metadata": {
    "colab": {
      "provenance": []
    },
    "kernelspec": {
      "name": "python3",
      "display_name": "Python 3"
    },
    "language_info": {
      "name": "python"
    },
    "accelerator": "GPU",
    "gpuClass": "standard"
  },
  "cells": [
    {
      "cell_type": "code",
      "source": [
        "from google.colab import drive\n",
        "drive.mount(\"/content/drive\")"
      ],
      "metadata": {
        "colab": {
          "base_uri": "https://localhost:8080/"
        },
        "id": "GB73_yvwlB_S",
        "outputId": "0bb6c4ea-e3b9-4f70-eb11-1538ba719d52"
      },
      "execution_count": null,
      "outputs": [
        {
          "output_type": "stream",
          "name": "stdout",
          "text": [
            "Mounted at /content/drive\n"
          ]
        }
      ]
    },
    {
      "cell_type": "code",
      "execution_count": null,
      "metadata": {
        "id": "EyYpQ9Ajxuh6"
      },
      "outputs": [],
      "source": [
        "import random"
      ]
    },
    {
      "cell_type": "code",
      "source": [
        "import time\n",
        "import numpy as np\n",
        "import matplotlib.pyplot as plt"
      ],
      "metadata": {
        "id": "8Ri7CT6cyqEo"
      },
      "execution_count": null,
      "outputs": []
    },
    {
      "cell_type": "code",
      "source": [
        "def insertionSort(arr):\n",
        "\n",
        "    # Traverse through 1 to len(arr)\n",
        "    for i in range(1, len(arr)):\n",
        "\n",
        "        key = arr[i]\n",
        "\n",
        "        # Move elements of arr[0..i-1], that are\n",
        "        # greater than key, to one position ahead\n",
        "        # of their current position\n",
        "        j = i-1\n",
        "        while j >= 0 and key < arr[j] :\n",
        "                arr[j + 1] = arr[j]\n",
        "                j -= 1\n",
        "        arr[j + 1] = key"
      ],
      "metadata": {
        "id": "AGS-Ep3GzcTv"
      },
      "execution_count": null,
      "outputs": []
    },
    {
      "cell_type": "code",
      "source": [
        "## Merge Sort ###########################\n",
        "def merge(arr, l, m, r):\n",
        "    n1 = m - l + 1\n",
        "    n2 = r- m\n",
        "\n",
        "    # create temp arrays\n",
        "    L = [0] * (n1)\n",
        "    R = [0] * (n2)\n",
        "\n",
        "    # Copy data to temp arrays L[] and R[]\n",
        "    for i in range(0 , n1):\n",
        "        L[i] = arr[l + i]\n",
        "\n",
        "    for j in range(0 , n2):\n",
        "        R[j] = arr[m + 1 + j]\n",
        "\n",
        "    # Merge the temp arrays back into arr[l..r]\n",
        "    i = 0     # Initial index of first subarray\n",
        "    j = 0     # Initial index of second subarray\n",
        "    k = l     # Initial index of merged subarray\n",
        "\n",
        "    while i < n1 and j < n2 :\n",
        "        if L[i] <= R[j]:\n",
        "            arr[k] = L[i]\n",
        "            i += 1\n",
        "        else:\n",
        "            arr[k] = R[j]\n",
        "            j += 1\n",
        "        k += 1\n",
        "\n",
        "    # Copy the remaining elements of L[], if there\n",
        "    # are any\n",
        "    while i < n1:\n",
        "        arr[k] = L[i]\n",
        "        i += 1\n",
        "        k += 1\n",
        "\n",
        "    # Copy the remaining elements of R[], if there\n",
        "    # are any\n",
        "    while j < n2:\n",
        "        arr[k] = R[j]\n",
        "        j += 1\n",
        "        k += 1\n",
        "\n",
        "# l is for left index and r is right index of the\n",
        "# sub-array of arr to be sorted\n",
        "def mergeSort(arr,l,r):\n",
        "    if l < r:\n",
        "        # Same as (l+r)/2, but avoids overflow for\n",
        "        # large l and h\n",
        "        m = l + (r-l)//2\n",
        "\n",
        "        # Sort first and second halves\n",
        "        mergeSort(arr, l, m)\n",
        "        mergeSort(arr, m+1, r)\n",
        "        merge(arr, l, m, r)\n",
        "#########################################"
      ],
      "metadata": {
        "id": "Guv_n8vHAdLI"
      },
      "execution_count": null,
      "outputs": []
    },
    {
      "cell_type": "code",
      "source": [
        "sorts = [\n",
        "    # {\n",
        "    #      \"name\": \"Insertion Sort\",\n",
        "    #      \"sort\": lambda arr: insertionSort(arr)\n",
        "    # },\n",
        "    {\n",
        "        \"name\": \"Merge Sort\",\n",
        "        \"sort\": lambda arr: mergeSort(arr, 0, len(arr) - 1)\n",
        "    }\n",
        "    ]"
      ],
      "metadata": {
        "id": "Eopksa3YzqHp"
      },
      "execution_count": null,
      "outputs": []
    },
    {
      "cell_type": "code",
      "source": [
        "# for i in range(1,11):\n",
        "#   a = np.random.randint(1000,size=2**4)\n",
        "#   print(a)\n",
        "\n",
        "elements = np.array([2**i for i in range(4,17,4)])\n",
        "\n",
        "# print(elements)\n",
        "# elements[0]\n",
        "for sort in sorts:\n",
        "  times24=list()\n",
        "  times28=list()\n",
        "  times212=list()\n",
        "  times216=list()\n",
        "  a=list(range(1,11))\n",
        "  start_all=time.clock()\n",
        "\n",
        "  for i in range(1,11):\n",
        "      start=time.clock()\n",
        "      a24 = np.random.randint(1000,size=elements[0])\n",
        "      sort[\"sort\"](a24)\n",
        "      end=time.clock()\n",
        "      times24.append(end-start)\n",
        "      print(sort[\"name\"],\"Sorted\", elements[0], \"elements in\", end-start,\"s\")\n",
        "\n",
        "  for k in range(1,11):\n",
        "      start=time.clock()\n",
        "      a28 = np.random.randint(1000,size=elements[1])\n",
        "      sort[\"sort\"](a28)\n",
        "      end=time.clock()\n",
        "      times28.append(end-start)\n",
        "      print(sort[\"name\"],\"Sorted\", elements[1], \"elements in\", end-start,\"s\") \n",
        "\n",
        "  for z in range(1,11):\n",
        "      start=time.clock()\n",
        "      a212 = np.random.randint(1000,size=elements[2])\n",
        "      sort[\"sort\"](a212)\n",
        "      end=time.clock()\n",
        "      times212.append(end-start)\n",
        "      print(sort[\"name\"],\"Sorted\", elements[2], \"elements in\", end-start,\"s\")  \n",
        "\n",
        "  for z in range(1,11):\n",
        "      start=time.clock()\n",
        "      a216 = np.random.randint(1000,size=elements[3])\n",
        "      sort[\"sort\"](a216)\n",
        "      end=time.clock()\n",
        "      times216.append(end-start)\n",
        "      print(sort[\"name\"],\"Sorted\", elements[3], \"elements in\", end-start,\"s\")  \n",
        "\n",
        "  end_all=time.clock()\n",
        "  print(sort[\"name\"], \"Sorted Elements in\", end_all - start_all, \"s\")\n",
        "\n",
        "  plt.xlabel('Random 10 instances for 16 element arrays')\n",
        "  plt.ylabel('Time Complexity')\n",
        "  plt.bar(a,times24, label=sort[\"name\"],width=0.4)\n",
        "  plt.legend()\n",
        "  plt.show()\n",
        "\n",
        "  plt.xlabel('Random 10 instances for 256 element arrays')\n",
        "  plt.ylabel('Time Complexity')\n",
        "  plt.bar(a,times28, label=sort[\"name\"],width=0.4)\n",
        "  plt.legend()\n",
        "  plt.show()\n",
        "\n",
        "  plt.xlabel('Random 10 instances for 4096 element arrays')\n",
        "  plt.ylabel('Time Complexity')\n",
        "  plt.bar(a,times212, label=sort[\"name\"],width=0.4)\n",
        "  plt.legend()\n",
        "  plt.show()\n",
        "\n",
        "  plt.xlabel('Random 10 instances for 65536 element arrays')\n",
        "  plt.ylabel('Time Complexity')\n",
        "  plt.bar(a,times216, label=sort[\"name\"],width=0.4)\n",
        "  plt.legend()\n",
        "  plt.show()\n"
      ],
      "metadata": {
        "colab": {
          "base_uri": "https://localhost:8080/",
          "height": 1000
        },
        "id": "tzj7qHVPzmK8",
        "outputId": "8a4f93c5-4c66-46a6-f45e-fc659b7ee900"
      },
      "execution_count": null,
      "outputs": [
        {
          "output_type": "stream",
          "name": "stdout",
          "text": [
            "Insertion Sort Sorted 16 elements in 0.0007159999999997169 s\n",
            "Insertion Sort Sorted 16 elements in 0.00012200000000017752 s\n",
            "Insertion Sort Sorted 16 elements in 0.0001129999999998077 s\n",
            "Insertion Sort Sorted 16 elements in 9.399999999981645e-05 s\n",
            "Insertion Sort Sorted 16 elements in 9.900000000007125e-05 s\n",
            "Insertion Sort Sorted 16 elements in 9.499999999995623e-05 s\n",
            "Insertion Sort Sorted 16 elements in 0.00012200000000017752 s\n",
            "Insertion Sort Sorted 16 elements in 9.399999999981645e-05 s\n",
            "Insertion Sort Sorted 16 elements in 9.600000000009601e-05 s\n",
            "Insertion Sort Sorted 16 elements in 0.00013100000000010326 s\n",
            "Insertion Sort Sorted 256 elements in 0.013199999999999878 s\n",
            "Insertion Sort Sorted 256 elements in 0.0068150000000000155 s\n",
            "Insertion Sort Sorted 256 elements in 0.0049800000000002065 s\n",
            "Insertion Sort Sorted 256 elements in 0.01036500000000018 s\n",
            "Insertion Sort Sorted 256 elements in 0.007775999999999783 s\n",
            "Insertion Sort Sorted 256 elements in 0.007655000000000189 s\n",
            "Insertion Sort Sorted 256 elements in 0.008163000000000142 s\n",
            "Insertion Sort Sorted 256 elements in 0.0072510000000001185 s\n"
          ]
        },
        {
          "output_type": "stream",
          "name": "stderr",
          "text": [
            "/usr/local/lib/python3.7/dist-packages/ipykernel_launcher.py:15: DeprecationWarning: time.clock has been deprecated in Python 3.3 and will be removed from Python 3.8: use time.perf_counter or time.process_time instead\n",
            "  from ipykernel import kernelapp as app\n",
            "/usr/local/lib/python3.7/dist-packages/ipykernel_launcher.py:18: DeprecationWarning: time.clock has been deprecated in Python 3.3 and will be removed from Python 3.8: use time.perf_counter or time.process_time instead\n",
            "/usr/local/lib/python3.7/dist-packages/ipykernel_launcher.py:21: DeprecationWarning: time.clock has been deprecated in Python 3.3 and will be removed from Python 3.8: use time.perf_counter or time.process_time instead\n",
            "/usr/local/lib/python3.7/dist-packages/ipykernel_launcher.py:26: DeprecationWarning: time.clock has been deprecated in Python 3.3 and will be removed from Python 3.8: use time.perf_counter or time.process_time instead\n",
            "/usr/local/lib/python3.7/dist-packages/ipykernel_launcher.py:29: DeprecationWarning: time.clock has been deprecated in Python 3.3 and will be removed from Python 3.8: use time.perf_counter or time.process_time instead\n",
            "/usr/local/lib/python3.7/dist-packages/ipykernel_launcher.py:34: DeprecationWarning: time.clock has been deprecated in Python 3.3 and will be removed from Python 3.8: use time.perf_counter or time.process_time instead\n"
          ]
        },
        {
          "output_type": "stream",
          "name": "stdout",
          "text": [
            "Insertion Sort Sorted 256 elements in 0.007344000000000239 s\n",
            "Insertion Sort Sorted 256 elements in 0.010075000000000056 s\n"
          ]
        },
        {
          "output_type": "stream",
          "name": "stderr",
          "text": [
            "/usr/local/lib/python3.7/dist-packages/ipykernel_launcher.py:37: DeprecationWarning: time.clock has been deprecated in Python 3.3 and will be removed from Python 3.8: use time.perf_counter or time.process_time instead\n"
          ]
        },
        {
          "output_type": "stream",
          "name": "stdout",
          "text": [
            "Insertion Sort Sorted 4096 elements in 1.555368 s\n",
            "Insertion Sort Sorted 4096 elements in 1.51829 s\n",
            "Insertion Sort Sorted 4096 elements in 1.5203869999999995 s\n",
            "Insertion Sort Sorted 4096 elements in 1.4970489999999996 s\n",
            "Insertion Sort Sorted 4096 elements in 1.488937 s\n",
            "Insertion Sort Sorted 4096 elements in 1.5188849999999992 s\n",
            "Insertion Sort Sorted 4096 elements in 1.5070160000000001 s\n",
            "Insertion Sort Sorted 4096 elements in 1.4887519999999999 s\n",
            "Insertion Sort Sorted 4096 elements in 1.4955829999999999 s\n",
            "Insertion Sort Sorted 4096 elements in 1.4901239999999998 s\n"
          ]
        },
        {
          "output_type": "stream",
          "name": "stderr",
          "text": [
            "/usr/local/lib/python3.7/dist-packages/ipykernel_launcher.py:42: DeprecationWarning: time.clock has been deprecated in Python 3.3 and will be removed from Python 3.8: use time.perf_counter or time.process_time instead\n",
            "/usr/local/lib/python3.7/dist-packages/ipykernel_launcher.py:45: DeprecationWarning: time.clock has been deprecated in Python 3.3 and will be removed from Python 3.8: use time.perf_counter or time.process_time instead\n"
          ]
        },
        {
          "output_type": "stream",
          "name": "stdout",
          "text": [
            "Insertion Sort Sorted 65536 elements in 397.910639 s\n",
            "Insertion Sort Sorted 65536 elements in 400.39123900000004 s\n"
          ]
        },
        {
          "output_type": "stream",
          "name": "stderr",
          "text": [
            "/usr/local/lib/python3.7/dist-packages/ipykernel_launcher.py:44: DeprecationWarning: time.clock has been deprecated in Python 3.3 and will be removed from Python 3.8: use time.perf_counter or time.process_time instead\n"
          ]
        },
        {
          "output_type": "stream",
          "name": "stdout",
          "text": [
            "Insertion Sort Sorted 65536 elements in 402.363733 s\n",
            "Insertion Sort Sorted 65536 elements in 398.7986679999999 s\n",
            "Insertion Sort Sorted 65536 elements in 402.725633 s\n",
            "Insertion Sort Sorted 65536 elements in 404.7055999999998 s\n",
            "Insertion Sort Sorted 65536 elements in 404.1335570000001 s\n",
            "Insertion Sort Sorted 65536 elements in 403.2966389999997 s\n",
            "Insertion Sort Sorted 65536 elements in 403.97228700000005 s\n",
            "Insertion Sort Sorted 65536 elements in 406.17612899999995 s\n",
            "Insertion Sort Sorted Elements in 4039.702304 s\n"
          ]
        },
        {
          "output_type": "display_data",
          "data": {
            "text/plain": [
              "<Figure size 432x288 with 1 Axes>"
            ],
            "image/png": "[encoded data removed]"
          },
          "metadata": {
            "needs_background": "light"
          }
        },
        {
          "output_type": "display_data",
          "data": {
            "text/plain": [
              "<Figure size 432x288 with 1 Axes>"
            ],
            "image/png": "[encoded data removed]"
          },
          "metadata": {
            "needs_background": "light"
          }
        },
        {
          "output_type": "display_data",
          "data": {
            "text/plain": [
              "<Figure size 432x288 with 1 Axes>"
            ],
            "image/png": "[encoded data removed]"
          },
          "metadata": {
            "needs_background": "light"
          }
        },
        {
          "output_type": "display_data",
          "data": {
            "text/plain": [
              "<Figure size 432x288 with 1 Axes>"
            ],
            "image/png": "[encoded data removed]"
          },
          "metadata": {
            "needs_background": "light"
          }
        },
        {
          "output_type": "stream",
          "name": "stdout",
          "text": [
            "Merge Sort Sorted 16 elements in 0.00020200000017212005 s\n",
            "Merge Sort Sorted 16 elements in 0.00013699999999516876 s\n",
            "Merge Sort Sorted 16 elements in 0.00028199999997013947 s\n",
            "Merge Sort Sorted 16 elements in 0.00013100000023769098 s\n",
            "Merge Sort Sorted 16 elements in 0.00015399999983856105 s\n",
            "Merge Sort Sorted 16 elements in 0.00013899999976274557 s\n",
            "Merge Sort Sorted 16 elements in 0.0001420000003236055 s\n",
            "Merge Sort Sorted 16 elements in 0.00015499999972234946 s\n",
            "Merge Sort Sorted 16 elements in 0.00015699999994467362 s\n",
            "Merge Sort Sorted 16 elements in 0.0001430000002073939 s\n",
            "Merge Sort Sorted 256 elements in 0.0022069999999985157 s\n",
            "Merge Sort Sorted 256 elements in 0.030200000000149885 s\n",
            "Merge Sort Sorted 256 elements in 0.002077999999983149 s\n",
            "Merge Sort Sorted 256 elements in 0.002051000000392378 s\n",
            "Merge Sort Sorted 256 elements in 0.0020020000001750304 s\n",
            "Merge Sort Sorted 256 elements in 0.001273000000310276 s\n",
            "Merge Sort Sorted 256 elements in 0.0012429999997038976 s\n",
            "Merge Sort Sorted 256 elements in 0.0012809999998353305 s\n",
            "Merge Sort Sorted 256 elements in 0.0012019999999210995 s\n",
            "Merge Sort Sorted 256 elements in 0.0012000000001535227 s\n",
            "Merge Sort Sorted 4096 elements in 0.02791799999977229 s\n",
            "Merge Sort Sorted 4096 elements in 0.029666000000361237 s\n",
            "Merge Sort Sorted 4096 elements in 0.02884700000004159 s\n",
            "Merge Sort Sorted 4096 elements in 0.029521999999815307 s\n",
            "Merge Sort Sorted 4096 elements in 0.027799000000413798 s\n",
            "Merge Sort Sorted 4096 elements in 0.03143000000000029 s\n",
            "Merge Sort Sorted 4096 elements in 0.028192000000217377 s\n",
            "Merge Sort Sorted 4096 elements in 0.031846000000314234 s\n",
            "Merge Sort Sorted 4096 elements in 0.027995999999802734 s\n",
            "Merge Sort Sorted 4096 elements in 0.029293000000052416 s\n",
            "Merge Sort Sorted 65536 elements in 0.5586249999996653 s\n",
            "Merge Sort Sorted 65536 elements in 0.5416119999999864 s\n",
            "Merge Sort Sorted 65536 elements in 0.5458840000001146 s\n",
            "Merge Sort Sorted 65536 elements in 0.5570700000002944 s\n",
            "Merge Sort Sorted 65536 elements in 0.5535799999997835 s\n",
            "Merge Sort Sorted 65536 elements in 0.5634469999999965 s\n",
            "Merge Sort Sorted 65536 elements in 0.550666000000092 s\n",
            "Merge Sort Sorted 65536 elements in 0.5484310000001642 s\n",
            "Merge Sort Sorted 65536 elements in 0.5618450000001758 s\n",
            "Merge Sort Sorted 65536 elements in 0.55471499999976 s\n",
            "Merge Sort Sorted Elements in 5.92255699999987 s\n"
          ]
        },
        {
          "output_type": "display_data",
          "data": {
            "text/plain": [
              "<Figure size 432x288 with 1 Axes>"
            ],
            "image/png": "[encoded data removed]"
          },
          "metadata": {
            "needs_background": "light"
          }
        },
        {
          "output_type": "display_data",
          "data": {
            "text/plain": [
              "<Figure size 432x288 with 1 Axes>"
            ],
            "image/png": "[encoded data removed]"
          },
          "metadata": {
            "needs_background": "light"
          }
        },
        {
          "output_type": "display_data",
          "data": {
            "text/plain": [
              "<Figure size 432x288 with 1 Axes>"
            ],
            "image/png": "[encoded data removed]"
          },
          "metadata": {
            "needs_background": "light"
          }
        },
        {
          "output_type": "display_data",
          "data": {
            "text/plain": [
              "<Figure size 432x288 with 1 Axes>"
            ],
            "image/png": "[encoded data removed]"
          },
          "metadata": {
            "needs_background": "light"
          }
        }
      ]
    },
    {
      "cell_type": "code",
      "source": [
        "a24 = np.arange(16,0,-1)\n",
        "print(a24)"
      ],
      "metadata": {
        "colab": {
          "base_uri": "https://localhost:8080/"
        },
        "id": "EtZHcEZ1PYPH",
        "outputId": "482dab81-3c33-43cf-e3da-e218113b1643"
      },
      "execution_count": null,
      "outputs": [
        {
          "output_type": "stream",
          "name": "stdout",
          "text": [
            "[16 15 14 13 12 11 10  9  8  7  6  5  4  3  2  1]\n"
          ]
        }
      ]
    },
    {
      "cell_type": "code",
      "source": [
        "\n",
        "for sort in sorts:\n",
        "  times24=list()\n",
        "  times28=list()\n",
        "  times212=list()\n",
        "  times216=list()\n",
        "  times220 = list()\n",
        "  a=list(range(1,11))\n",
        "  start_all=time.clock()\n",
        "\n",
        "  a24 = np.arange(16,0,-1)\n",
        "  a28 = np.arange(256,0,-1)\n",
        "  a212 = np.arange(4096,0,-1)\n",
        "  a216 = np.arange(65536,0,-1)\n",
        "  a220 = np.arange(1048576,0,-1)\n",
        "  start=time.clock()\n",
        "  sort[\"sort\"](a24)\n",
        "  end=time.clock()\n",
        "  times24.append(end-start)\n",
        "  print(sort[\"name\"],\"Sorted\", 16, \"elements in\", float(end-start),\"s\")\n",
        "  start=time.clock()\n",
        "  sort[\"sort\"](a28)\n",
        "  end=time.clock()\n",
        "  times28.append(end-start)\n",
        "  print(sort[\"name\"],\"Sorted\", 256, \"elements in\", float(end-start),\"s\")\n",
        "  start=time.clock()\n",
        "  sort[\"sort\"](a212)\n",
        "  end=time.clock()\n",
        "  times212.append(end-start)\n",
        "  print(sort[\"name\"],\"Sorted\", 4096, \"elements in\", float(end-start),\"s\")\n",
        "  start=time.clock()\n",
        "  sort[\"sort\"](a216)\n",
        "  end=time.clock()\n",
        "  times216.append(end-start)\n",
        "  print(sort[\"name\"],\"Sorted\", 65536, \"elements in\", float(end-start),\"s\")\n",
        "  start=time.clock()\n",
        "  sort[\"sort\"](a220)\n",
        "  end=time.clock()\n",
        "  times216.append(end-start)\n",
        "  print(sort[\"name\"],\"Sorted\", 1048576, \"elements in\", float(end-start),\"s\")\n",
        "  \n"
      ],
      "metadata": {
        "id": "5qlKoHbthTWs",
        "colab": {
          "base_uri": "https://localhost:8080/"
        },
        "outputId": "c847275a-00c9-4532-8371-b7d7c37be3fb"
      },
      "execution_count": null,
      "outputs": [
        {
          "output_type": "stream",
          "name": "stderr",
          "text": [
            "/usr/local/lib/python3.7/dist-packages/ipykernel_launcher.py:8: DeprecationWarning: time.clock has been deprecated in Python 3.3 and will be removed from Python 3.8: use time.perf_counter or time.process_time instead\n",
            "  \n",
            "/usr/local/lib/python3.7/dist-packages/ipykernel_launcher.py:15: DeprecationWarning: time.clock has been deprecated in Python 3.3 and will be removed from Python 3.8: use time.perf_counter or time.process_time instead\n",
            "  from ipykernel import kernelapp as app\n",
            "/usr/local/lib/python3.7/dist-packages/ipykernel_launcher.py:17: DeprecationWarning: time.clock has been deprecated in Python 3.3 and will be removed from Python 3.8: use time.perf_counter or time.process_time instead\n",
            "/usr/local/lib/python3.7/dist-packages/ipykernel_launcher.py:20: DeprecationWarning: time.clock has been deprecated in Python 3.3 and will be removed from Python 3.8: use time.perf_counter or time.process_time instead\n",
            "/usr/local/lib/python3.7/dist-packages/ipykernel_launcher.py:22: DeprecationWarning: time.clock has been deprecated in Python 3.3 and will be removed from Python 3.8: use time.perf_counter or time.process_time instead\n",
            "/usr/local/lib/python3.7/dist-packages/ipykernel_launcher.py:25: DeprecationWarning: time.clock has been deprecated in Python 3.3 and will be removed from Python 3.8: use time.perf_counter or time.process_time instead\n"
          ]
        },
        {
          "output_type": "stream",
          "name": "stdout",
          "text": [
            "Insertion Sort Sorted 16 elements in 0.0001430000002073939 s\n",
            "Insertion Sort Sorted 256 elements in 0.014094999999542779 s\n"
          ]
        },
        {
          "output_type": "stream",
          "name": "stderr",
          "text": [
            "/usr/local/lib/python3.7/dist-packages/ipykernel_launcher.py:27: DeprecationWarning: time.clock has been deprecated in Python 3.3 and will be removed from Python 3.8: use time.perf_counter or time.process_time instead\n",
            "/usr/local/lib/python3.7/dist-packages/ipykernel_launcher.py:30: DeprecationWarning: time.clock has been deprecated in Python 3.3 and will be removed from Python 3.8: use time.perf_counter or time.process_time instead\n"
          ]
        },
        {
          "output_type": "stream",
          "name": "stdout",
          "text": [
            "Insertion Sort Sorted 4096 elements in 3.043829999999616 s\n"
          ]
        },
        {
          "output_type": "stream",
          "name": "stderr",
          "text": [
            "/usr/local/lib/python3.7/dist-packages/ipykernel_launcher.py:32: DeprecationWarning: time.clock has been deprecated in Python 3.3 and will be removed from Python 3.8: use time.perf_counter or time.process_time instead\n",
            "/usr/local/lib/python3.7/dist-packages/ipykernel_launcher.py:35: DeprecationWarning: time.clock has been deprecated in Python 3.3 and will be removed from Python 3.8: use time.perf_counter or time.process_time instead\n"
          ]
        },
        {
          "output_type": "stream",
          "name": "stdout",
          "text": [
            "Insertion Sort Sorted 65536 elements in 811.6571000000004 s\n"
          ]
        }
      ]
    },
    {
      "cell_type": "code",
      "source": [
        "for sort in sorts:\n",
        "  times24=list()\n",
        "  times28=list()\n",
        "  times212=list()\n",
        "  times216=list()\n",
        "  times220 = list()\n",
        "  a=list(range(1,11))\n",
        "  start_all=time.clock()\n",
        "\n",
        "  a24 = np.arange(16,0,-1)\n",
        "  a28 = np.arange(256,0,-1)\n",
        "  a212 = np.arange(4096,0,-1)\n",
        "  a216 = np.arange(65536,0,-1)\n",
        "  a220 = np.arange(1048576,0,-1)\n",
        "  start=time.clock()\n",
        "  sort[\"sort\"](a24)\n",
        "  end=time.clock()\n",
        "  times24.append(end-start)\n",
        "  print(sort[\"name\"],\"Sorted\", 16, \"elements in\", float(end-start),\"s\")\n",
        "  start=time.clock()\n",
        "  sort[\"sort\"](a28)\n",
        "  end=time.clock()\n",
        "  times28.append(end-start)\n",
        "  print(sort[\"name\"],\"Sorted\", 256, \"elements in\", float(end-start),\"s\")\n",
        "  start=time.clock()\n",
        "  sort[\"sort\"](a212)\n",
        "  end=time.clock()\n",
        "  times212.append(end-start)\n",
        "  print(sort[\"name\"],\"Sorted\", 4096, \"elements in\", float(end-start),\"s\")\n",
        "  start=time.clock()\n",
        "  sort[\"sort\"](a216)\n",
        "  end=time.clock()\n",
        "  times216.append(end-start)\n",
        "  print(sort[\"name\"],\"Sorted\", 65536, \"elements in\", float(end-start),\"s\")\n",
        "  start=time.clock()\n",
        "  sort[\"sort\"](a220)\n",
        "  end=time.clock()\n",
        "  times216.append(end-start)\n",
        "  print(sort[\"name\"],\"Sorted\", 1048576, \"elements in\", float(end-start),\"s\")\n",
        "  \n"
      ],
      "metadata": {
        "colab": {
          "base_uri": "https://localhost:8080/"
        },
        "id": "4NcMtR5nJteI",
        "outputId": "603c05b9-487a-4e2d-dd86-79df5f1d9f25"
      },
      "execution_count": null,
      "outputs": [
        {
          "output_type": "stream",
          "name": "stderr",
          "text": [
            "/usr/local/lib/python3.7/dist-packages/ipykernel_launcher.py:8: DeprecationWarning: time.clock has been deprecated in Python 3.3 and will be removed from Python 3.8: use time.perf_counter or time.process_time instead\n",
            "  \n",
            "/usr/local/lib/python3.7/dist-packages/ipykernel_launcher.py:15: DeprecationWarning: time.clock has been deprecated in Python 3.3 and will be removed from Python 3.8: use time.perf_counter or time.process_time instead\n",
            "  from ipykernel import kernelapp as app\n",
            "/usr/local/lib/python3.7/dist-packages/ipykernel_launcher.py:17: DeprecationWarning: time.clock has been deprecated in Python 3.3 and will be removed from Python 3.8: use time.perf_counter or time.process_time instead\n",
            "/usr/local/lib/python3.7/dist-packages/ipykernel_launcher.py:20: DeprecationWarning: time.clock has been deprecated in Python 3.3 and will be removed from Python 3.8: use time.perf_counter or time.process_time instead\n",
            "/usr/local/lib/python3.7/dist-packages/ipykernel_launcher.py:22: DeprecationWarning: time.clock has been deprecated in Python 3.3 and will be removed from Python 3.8: use time.perf_counter or time.process_time instead\n",
            "/usr/local/lib/python3.7/dist-packages/ipykernel_launcher.py:25: DeprecationWarning: time.clock has been deprecated in Python 3.3 and will be removed from Python 3.8: use time.perf_counter or time.process_time instead\n",
            "/usr/local/lib/python3.7/dist-packages/ipykernel_launcher.py:27: DeprecationWarning: time.clock has been deprecated in Python 3.3 and will be removed from Python 3.8: use time.perf_counter or time.process_time instead\n",
            "/usr/local/lib/python3.7/dist-packages/ipykernel_launcher.py:30: DeprecationWarning: time.clock has been deprecated in Python 3.3 and will be removed from Python 3.8: use time.perf_counter or time.process_time instead\n"
          ]
        },
        {
          "output_type": "stream",
          "name": "stdout",
          "text": [
            "Merge Sort Sorted 16 elements in 0.0002309999999998702 s\n",
            "Merge Sort Sorted 256 elements in 0.0013350000000000861 s\n",
            "Merge Sort Sorted 4096 elements in 0.03384300000000007 s\n"
          ]
        },
        {
          "output_type": "stream",
          "name": "stderr",
          "text": [
            "/usr/local/lib/python3.7/dist-packages/ipykernel_launcher.py:32: DeprecationWarning: time.clock has been deprecated in Python 3.3 and will be removed from Python 3.8: use time.perf_counter or time.process_time instead\n",
            "/usr/local/lib/python3.7/dist-packages/ipykernel_launcher.py:35: DeprecationWarning: time.clock has been deprecated in Python 3.3 and will be removed from Python 3.8: use time.perf_counter or time.process_time instead\n"
          ]
        },
        {
          "output_type": "stream",
          "name": "stdout",
          "text": [
            "Merge Sort Sorted 65536 elements in 0.568422 s\n",
            "Merge Sort Sorted 1048576 elements in 11.098074 s\n"
          ]
        },
        {
          "output_type": "stream",
          "name": "stderr",
          "text": [
            "/usr/local/lib/python3.7/dist-packages/ipykernel_launcher.py:37: DeprecationWarning: time.clock has been deprecated in Python 3.3 and will be removed from Python 3.8: use time.perf_counter or time.process_time instead\n"
          ]
        }
      ]
    },
    {
      "cell_type": "code",
      "source": [
        "elements = np.array([2**i for i in range(4,21,4)])\n",
        "for sort in sorts:\n",
        "  times220 = list()\n",
        "  a=list(range(1,11))\n",
        "  start_all=time.clock()\n",
        "\n",
        "  for i in range(1,11):\n",
        "      start=time.clock()\n",
        "      a220 = np.random.randint(1000,size=elements[4])\n",
        "      sort[\"sort\"](a220)\n",
        "      end=time.clock()\n",
        "      times220.append(end-start)\n",
        "      print(sort[\"name\"],\"Sorted\", elements[4], \"elements in\", end-start,\"s\")\n",
        "  end_all=time.clock()\n",
        "  print(sort[\"name\"], \"Sorted Elements in\", end_all - start_all, \"s\")\n",
        "\n",
        "  plt.xlabel('Random 10 instances for 1048576 element arrays')\n",
        "  plt.ylabel('Time Complexity')\n",
        "  plt.bar(a,times220, label=sort[\"name\"],width=0.4)\n",
        "  plt.legend()\n",
        "  plt.show()"
      ],
      "metadata": {
        "colab": {
          "base_uri": "https://localhost:8080/",
          "height": 630
        },
        "id": "HSJK14-iOi4L",
        "outputId": "6e7a5fb5-da47-45d3-9a16-5d7ed78fc0c8"
      },
      "execution_count": null,
      "outputs": [
        {
          "output_type": "stream",
          "name": "stderr",
          "text": [
            "/usr/local/lib/python3.7/dist-packages/ipykernel_launcher.py:5: DeprecationWarning: time.clock has been deprecated in Python 3.3 and will be removed from Python 3.8: use time.perf_counter or time.process_time instead\n",
            "  \"\"\"\n",
            "/usr/local/lib/python3.7/dist-packages/ipykernel_launcher.py:8: DeprecationWarning: time.clock has been deprecated in Python 3.3 and will be removed from Python 3.8: use time.perf_counter or time.process_time instead\n",
            "  \n",
            "/usr/local/lib/python3.7/dist-packages/ipykernel_launcher.py:11: DeprecationWarning: time.clock has been deprecated in Python 3.3 and will be removed from Python 3.8: use time.perf_counter or time.process_time instead\n",
            "  # This is added back by InteractiveShellApp.init_path()\n"
          ]
        },
        {
          "output_type": "stream",
          "name": "stdout",
          "text": [
            "Merge Sort Sorted 1048576 elements in 10.708723000000646 s\n",
            "Merge Sort Sorted 1048576 elements in 12.514884000000166 s\n",
            "Merge Sort Sorted 1048576 elements in 10.748913999999786 s\n",
            "Merge Sort Sorted 1048576 elements in 10.583928000000014 s\n",
            "Merge Sort Sorted 1048576 elements in 10.739071999999396 s\n",
            "Merge Sort Sorted 1048576 elements in 13.529595999999401 s\n",
            "Merge Sort Sorted 1048576 elements in 10.519374000000425 s\n",
            "Merge Sort Sorted 1048576 elements in 10.715345999999954 s\n",
            "Merge Sort Sorted 1048576 elements in 12.482976999999664 s\n",
            "Merge Sort Sorted 1048576 elements in 10.578078999999889 s\n",
            "Merge Sort Sorted Elements in 113.15094500000032 s\n"
          ]
        },
        {
          "output_type": "stream",
          "name": "stderr",
          "text": [
            "/usr/local/lib/python3.7/dist-packages/ipykernel_launcher.py:14: DeprecationWarning: time.clock has been deprecated in Python 3.3 and will be removed from Python 3.8: use time.perf_counter or time.process_time instead\n",
            "  \n"
          ]
        },
        {
          "output_type": "display_data",
          "data": {
            "text/plain": [
              "<Figure size 432x288 with 1 Axes>"
            ],
            "image/png": "[encoded data removed]"
          },
          "metadata": {
            "needs_background": "light"
          }
        }
      ]
    },
    {
      "cell_type": "code",
      "source": [],
      "metadata": {
        "id": "GdtqK5VmT55c"
      },
      "execution_count": null,
      "outputs": []
    }
  ]
}