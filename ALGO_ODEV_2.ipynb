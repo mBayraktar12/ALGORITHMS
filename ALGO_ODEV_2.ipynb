{
  "nbformat": 4,
  "nbformat_minor": 0,
  "metadata": {
    "colab": {
      "provenance": []
    },
    "kernelspec": {
      "name": "python3",
      "display_name": "Python 3"
    },
    "language_info": {
      "name": "python"
    }
  },
  "cells": [
    {
      "cell_type": "code",
      "source": [
        "import random\n",
        "\n",
        "class Node:\n",
        "    def __init__(self, value, left=None, right=None):\n",
        "        self.value = value\n",
        "        self.left = left\n",
        "        self.right = right\n",
        "\n",
        "class CompleteBinaryTree:\n",
        "    def __init__(self, size):\n",
        "        self.size = size\n",
        "\n",
        "        # Generate random node weights\n",
        "        self.WN = [random.randint(1, 20) for _ in range(size)]\n",
        "\n",
        "        # Generate random edge weights between parent and child nodes\n",
        "        self.WE = [[random.randint(1, 20) if j in (i*2+1, i*2+2) else 0 for j in range(size)]\n",
        "                   for i in range(size)]\n",
        "\n",
        "        # Create the nodes of the tree\n",
        "        self.nodes = [Node(self.WN[i]) for i in range(size)]\n",
        "\n",
        "        # Set the left and right children of each node\n",
        "        for i in range(size):\n",
        "            if 2*i+1 < size:\n",
        "                self.nodes[i].left = self.nodes[2*i+1]\n",
        "            if 2*i+2 < size:\n",
        "                self.nodes[i].right = self.nodes[2*i+2]\n",
        "\n",
        "    def get_edge_weight(self, node1, node2):\n",
        "        # Find the indices of the two nodes in the WN array\n",
        "        i1 = self.WN.index(node1.value)\n",
        "        i2 = self.WN.index(node2.value)\n",
        "\n",
        "        # Return the weight of the edge between the two nodes\n",
        "        return self.WE[i1][i2]\n",
        "\n",
        "    def print_arrays(self):\n",
        "        print(f'WN: {self.WN}')\n",
        "        print(f'WE: {self.WE}')\n",
        "\n"
      ],
      "metadata": {
        "id": "PSBF__oFU8vC"
      },
      "execution_count": null,
      "outputs": []
    },
    {
      "cell_type": "code",
      "source": [
        "# Example usage\n",
        "tree = CompleteBinaryTree(7)\n",
        "tree.print_arrays()  # Output: the WN and WE arrays\n",
        "node1 = tree.nodes[0]\n",
        "node2 = tree.nodes[1]\n",
        "print(tree.get_edge_weight(node1, node2))  # Output: a random number between 1 and 20\n"
      ],
      "metadata": {
        "colab": {
          "base_uri": "https://localhost:8080/"
        },
        "id": "i_N2ZAVSW7DH",
        "outputId": "ea6c9724-d80a-473e-b347-7d73350db9ca"
      },
      "execution_count": null,
      "outputs": [
        {
          "output_type": "stream",
          "name": "stdout",
          "text": [
            "WN: [20, 16, 12, 15, 20, 19, 8]\n",
            "WE: [[0, 12, 15, 0, 0, 0, 0], [0, 0, 0, 4, 14, 0, 0], [0, 0, 0, 0, 0, 9, 16], [0, 0, 0, 0, 0, 0, 0], [0, 0, 0, 0, 0, 0, 0], [0, 0, 0, 0, 0, 0, 0], [0, 0, 0, 0, 0, 0, 0]]\n",
            "12\n"
          ]
        }
      ]
    },
    {
      "cell_type": "markdown",
      "source": [
        "Greedy"
      ],
      "metadata": {
        "id": "6ilsEKHuZNWj"
      }
    },
    {
      "cell_type": "code",
      "source": [
        "def choose_best_child(node, tree):\n",
        "    # If the node has no children, return None\n",
        "    if not node.left and not node.right:\n",
        "        return None\n",
        "\n",
        "    # If the node has only a left child, return it\n",
        "    if not node.right:\n",
        "        return node.left\n",
        "\n",
        "    # If the node has only a right child, return it\n",
        "    if not node.left:\n",
        "        return node.right\n",
        "\n",
        "    # If the node has both a left and right child, choose the one with the smaller sum of edge and node weights\n",
        "    left_sum = tree.get_edge_weight(node, node.left) + node.left.value\n",
        "    right_sum = tree.get_edge_weight(node, node.right) + node.right.value\n",
        "    if left_sum < right_sum:\n",
        "        return node.left\n",
        "    else:\n",
        "        return node.right\n",
        "\n"
      ],
      "metadata": {
        "id": "h_LpzGeRW8Hb"
      },
      "execution_count": null,
      "outputs": []
    },
    {
      "cell_type": "code",
      "source": [
        "\n",
        "# Example usage\n",
        "node = tree.nodes[0]\n",
        "best_child = choose_best_child(node, tree)\n",
        "print(best_child.value)  # Output: the value of the child with the smallest sum of edge and node weights"
      ],
      "metadata": {
        "colab": {
          "base_uri": "https://localhost:8080/"
        },
        "id": "51BPiNcuYrag",
        "outputId": "3fd1fde8-c1a8-45ba-ff4e-417321170f48"
      },
      "execution_count": null,
      "outputs": [
        {
          "output_type": "stream",
          "name": "stdout",
          "text": [
            "12\n"
          ]
        }
      ]
    },
    {
      "cell_type": "markdown",
      "source": [
        "Recursive"
      ],
      "metadata": {
        "id": "0OFBUWO-ZOrE"
      }
    },
    {
      "cell_type": "code",
      "source": [
        "def find_min_weight(node, tree, weight=0):\n",
        "    # Base case: if the node has no children, return the current weight\n",
        "    if not node.left and not node.right:\n",
        "        return weight\n",
        "\n",
        "    # Recursive case: find the minimum weight of the path through the left and right children\n",
        "    left_weight = float('inf') if not node.left else find_min_weight(node.left, tree, weight + tree.get_edge_weight(node, node.left) + node.left.value)\n",
        "    right_weight = float('inf') if not node.right else find_min_weight(node.right, tree, weight + tree.get_edge_weight(node, node.right) + node.right.value)\n",
        "\n",
        "    # Return the minimum weight of the paths through the left and right children\n",
        "    return min(left_weight, right_weight)\n",
        "\n",
        "\n"
      ],
      "metadata": {
        "id": "ePgWCbtvYww4"
      },
      "execution_count": null,
      "outputs": []
    },
    {
      "cell_type": "code",
      "source": [
        "# Example usage\n",
        "root = tree.nodes[0]\n",
        "min_weight = find_min_weight(root, tree)\n",
        "print(min_weight)  # Output: the minimum total weight of a path through the tree"
      ],
      "metadata": {
        "colab": {
          "base_uri": "https://localhost:8080/"
        },
        "id": "u5hZiVlEZSDs",
        "outputId": "20994797-f5b1-47f9-e845-2808e468a8e5"
      },
      "execution_count": null,
      "outputs": [
        {
          "output_type": "stream",
          "name": "stdout",
          "text": [
            "47\n"
          ]
        }
      ]
    },
    {
      "cell_type": "markdown",
      "source": [
        "The time complexity of the recursive algorithm for finding the minimum total weight of a path through a complete binary tree is O(n), where n is the number of nodes in the tree.\n",
        "\n",
        "This is because the function makes a recursive call for each child of a given node, and each node in a complete binary tree has at most two children. Therefore, the function will make at most 2 recursive calls for each node in the tree, and the total number of recursive calls will be at most 2n. Since the time complexity of each recursive call is O(1), the overall time complexity of the algorithm is O(n).\n",
        "\n",
        "\n",
        "Here is a proof of the time complexity of the recursive algorithm for finding the minimum total weight of a path through a complete binary tree using the substitution method:\n",
        "\n",
        "Let T(n) be the time complexity of the function when called on a complete binary tree with n nodes.\n",
        "\n",
        "Base case:\n",
        "\n",
        "If the node has no children, the function returns the current weight, which takes O(1) time.\n",
        "Therefore, T(0) = O(1).\n",
        "Recursive case:\n",
        "\n",
        "If the node has one or two children, the function makes two recursive calls, one for each child.\n",
        "Let T(n1) and T(n2) be the time complexity of the function when called on the left and right children, respectively.\n",
        "The time complexity of the function when called on a node with one or two children is T(n) = T(n1) + T(n2) + O(1).\n",
        "Substituting the value of T(0) into the recursive case gives:\n",
        "T(n) = T(n1) + T(n2) + O(1)\n",
        "\n",
        "Substituting the value of T(n1) and T(n2) into the recursive case gives:\n",
        "T(n) = T(n1) + T(n2) + O(1)\n",
        "\n",
        "Substituting the value of T(n1) and T(n2) into the recursive case again gives:\n",
        "T(n) = T(n1) + T(n2) + O(1)\n",
        "\n",
        "Repeating this process gives:\n",
        "T(n) = T(n1) + T(n2) + O(1)\n",
        "\n",
        "Since each node in a complete binary tree has at most two children, the number of recursive calls made by the function is at most 2n. Therefore, the time complexity of the function is O(n)."
      ],
      "metadata": {
        "id": "fdkNlLHCZdrU"
      }
    },
    {
      "cell_type": "markdown",
      "source": [
        "Here is a proof of the time complexity of the recursive algorithm for finding the minimum total weight of a path through a complete binary tree using the recurrence tree method:\n",
        "\n",
        "Let T(n) be the time complexity of the function when called on a complete binary tree with n nodes.\n",
        "\n",
        "Base case:\n",
        "\n",
        "If the node has no children, the function returns the current weight, which takes O(1) time.\n",
        "Therefore, T(0) = O(1).\n",
        "Recursive case:\n",
        "\n",
        "If the node has one or two children, the function makes two recursive calls, one for each child.\n",
        "Let T(n1) and T(n2) be the time complexity of the function when called on the left and right children, respectively.\n",
        "The time complexity of the function when called on a node with one or two children is T(n) = T(n1) + T(n2) + O(1).\n",
        "To analyze the time complexity using the recurrence tree method, we can draw a recurrence tree with the base case at the bottom and the recursive case at the top. Each level of the tree represents a recursive call, with the root of the tree representing the initial call to the function. The number of nodes in each level of the tree represents the number of recursive calls made at that level.\n",
        "\n",
        "For example, consider a complete binary tree with 7 nodes:\n",
        "\n",
        "        T(7)\n",
        "       /    \\\n",
        "   T(3)      T(3)\n",
        "  /   \\     /   \\\n",
        "T(1) T(1) T(1) T(1)\n",
        "\n",
        "In this example, the function is called on a tree with 7 nodes, which corresponds to the root of the tree. The function then makes two recursive calls on trees with 3 nodes each, which correspond to the two children of the root. The function then makes four recursive calls on trees with 1 node each, which correspond to the four children of the two 3-node trees.\n",
        "\n",
        "The total number of nodes in the tree is the sum of the nodes at each level. The number of nodes at each level is equal to the number of recursive calls made at that level. Therefore, the total number of nodes in the tree is equal to the total number of recursive calls made by the function.\n",
        "\n",
        "Since each node in a complete binary tree has at most two children, the number of recursive calls made by the function is at most 2n. Therefore, the time complexity of the function is O(n)."
      ],
      "metadata": {
        "id": "IC-oyqTWahvL"
      }
    },
    {
      "cell_type": "markdown",
      "source": [
        "Dynamic"
      ],
      "metadata": {
        "id": "Pzv56_gtbGQs"
      }
    },
    {
      "cell_type": "code",
      "source": [
        "def choose_best_child(node, tree, weights):\n",
        "    # If the node has no children, return None\n",
        "    if not node.left and not node.right:\n",
        "        return None\n",
        "\n",
        "    # If the node has only a left child, return it\n",
        "    if not node.right:\n",
        "        return node.left\n",
        "\n",
        "    # If the node has only a right child, return it\n",
        "    if not node.left:\n",
        "        return node.right\n",
        "\n",
        "    # If the node has both a left and right child, choose the one with the smaller sum of edge and node weights\n",
        "    i = tree.WN.index(node.value)\n",
        "    left_child = node.left\n",
        "    right_child = node.right\n",
        "    if left_child not in weights:\n",
        "        weights[left_child] = tree.get_edge_weight(node, left_child) + left_child.value\n",
        "    if right_child not in weights:\n",
        "        weights[right_child] = tree.get_edge_weight(node, right_child) + right_child.value\n",
        "    if weights[left_child] < weights[right_child]:\n",
        "        return left_child\n",
        "    else:\n",
        "        return right_child\n",
        "\n",
        "def print_tree(node, tree, weights, depth=0):\n",
        "    # Base case: if the node has no children, return\n",
        "    if not node.left and not node.right:\n",
        "        return\n",
        "\n",
        "    # Recursive case: print the node and its children\n",
        "    indent = \"  \" * depth\n",
        "    print(f\"{indent}{node.value}\")\n",
        "    if node.left:\n",
        "        i = tree.WN.index(node.value)\n",
        "        j = tree.WN.index(node.left.value)\n",
        "        edge_weight = tree.WE[i][j]\n",
        "        print(f\"{indent}L: {node.left.value} (edge weight: {edge_weight}, node weight: {node.left.value}, total weight: {weights[node.left]})\")\n",
        "        print_tree(node.left, tree, weights, depth + 1)\n",
        "    if node.right:\n",
        "        i = tree.WN.index(node.value)\n",
        "        j = tree.WN.index(node.right.value)\n",
        "        edge_weight = tree.WE[i][j]\n",
        "        print(f\"{indent}R: {node.right.value} (edge weight: {edge_weight}, node weight: {node.right.value}, total weight: {weights[node.right]})\")\n",
        "        print_tree(node.right, tree, weights, depth + 1)\n",
        "\n"
      ],
      "metadata": {
        "id": "eT1mg-ZtZSpF"
      },
      "execution_count": null,
      "outputs": []
    },
    {
      "cell_type": "code",
      "source": [
        "weights = {}  # A dictionary to store the weights of each child\n",
        "node = tree.nodes[0]\n",
        "best_child = choose_best_child(node, tree, weights)\n",
        "print(f\"Best child of {node.value}: {best_child.value}\")  # Output: the value of the child with the smallest sum of edge and node weights\n",
        "print(\"Tree:\")\n",
        "print_tree(node, tree, weights) "
      ],
      "metadata": {
        "id": "mRqc-2pybL4_"
      },
      "execution_count": null,
      "outputs": []
    },
    {
      "cell_type": "markdown",
      "source": [
        "The time complexity of the dynamic programming algorithm for choosing the child with the smallest sum of edge and node weights at each step is O(n), where n is the number of nodes in the tree. This is because the algorithm processes each node in the tree at most once, and the time required to process each node is constant.\n",
        "\n",
        "To prove this, we can use the substitution method. Let T(n) be the time complexity of the algorithm for a tree with n nodes. We can then define the following recurrence relation:\n",
        "\n",
        "T(n) = T(n/2) + O(1)\n",
        "\n",
        "The base case is T(1) = O(1), since processing a tree with a single node takes constant time.\n",
        "\n",
        "To prove that this recurrence relation holds for all values of n, we can make the following substitution:\n",
        "\n",
        "T(n) = T(n/2) + O(1)\n",
        "= T(n/4) + O(1) + O(1)\n",
        "= T(n/8) + O(1) + O(1) + O(1)\n",
        "= ...\n",
        "= T(1) + O(1) + ... + O(1)\n",
        "= O(n)\n",
        "\n",
        "This shows that the time complexity of the dynamic programming algorithm is O(n)."
      ],
      "metadata": {
        "id": "fDFn8hfoeya6"
      }
    },
    {
      "cell_type": "code",
      "source": [],
      "metadata": {
        "id": "4Jvf7PuieLkC"
      },
      "execution_count": null,
      "outputs": []
    }
  ]
}